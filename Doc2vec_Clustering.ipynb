{
  "nbformat": 4,
  "nbformat_minor": 0,
  "metadata": {
    "colab": {
      "name": "Doc2vec Clustering.ipynb",
      "version": "0.3.2",
      "provenance": [],
      "collapsed_sections": []
    }
  },
  "cells": [
    {
      "metadata": {
        "id": "gFCLx0TzMxJQ",
        "colab_type": "code",
        "outputId": "924cd981-8788-403b-b751-82abe7920a7f",
        "colab": {
          "base_uri": "https://localhost:8080/",
          "height": 442
        }
      },
      "cell_type": "code",
      "source": [
        "# Importing and downloading required libraries\n",
        "!pip install gensim\n",
        "!pip install xlrd\n",
        "!pip install openpyxl\n",
        "import pandas as pd\n",
        "import xlrd\n",
        "import re\n",
        "import io\n",
        "import numpy as np\n",
        "import math\n",
        "from gensim.models.doc2vec import Doc2Vec, TaggedDocument"
      ],
      "execution_count": 0,
      "outputs": [
        {
          "output_type": "stream",
          "text": [
            "Requirement already satisfied: gensim in /usr/local/lib/python2.7/dist-packages (3.6.0)\n",
            "Requirement already satisfied: smart-open>=1.2.1 in /usr/local/lib/python2.7/dist-packages (from gensim) (1.7.1)\n",
            "Requirement already satisfied: six>=1.5.0 in /usr/local/lib/python2.7/dist-packages (from gensim) (1.11.0)\n",
            "Requirement already satisfied: scipy>=0.18.1 in /usr/local/lib/python2.7/dist-packages (from gensim) (1.1.0)\n",
            "Requirement already satisfied: numpy>=1.11.3 in /usr/local/lib/python2.7/dist-packages (from gensim) (1.14.6)\n",
            "Requirement already satisfied: bz2file in /usr/local/lib/python2.7/dist-packages (from smart-open>=1.2.1->gensim) (0.98)\n",
            "Requirement already satisfied: boto>=2.32 in /usr/local/lib/python2.7/dist-packages (from smart-open>=1.2.1->gensim) (2.49.0)\n",
            "Requirement already satisfied: requests in /usr/local/lib/python2.7/dist-packages (from smart-open>=1.2.1->gensim) (2.18.4)\n",
            "Requirement already satisfied: boto3 in /usr/local/lib/python2.7/dist-packages (from smart-open>=1.2.1->gensim) (1.9.53)\n",
            "Requirement already satisfied: idna<2.7,>=2.5 in /usr/local/lib/python2.7/dist-packages (from requests->smart-open>=1.2.1->gensim) (2.6)\n",
            "Requirement already satisfied: urllib3<1.23,>=1.21.1 in /usr/local/lib/python2.7/dist-packages (from requests->smart-open>=1.2.1->gensim) (1.22)\n",
            "Requirement already satisfied: certifi>=2017.4.17 in /usr/local/lib/python2.7/dist-packages (from requests->smart-open>=1.2.1->gensim) (2018.10.15)\n",
            "Requirement already satisfied: chardet<3.1.0,>=3.0.2 in /usr/local/lib/python2.7/dist-packages (from requests->smart-open>=1.2.1->gensim) (3.0.4)\n",
            "Requirement already satisfied: jmespath<1.0.0,>=0.7.1 in /usr/local/lib/python2.7/dist-packages (from boto3->smart-open>=1.2.1->gensim) (0.9.3)\n",
            "Requirement already satisfied: botocore<1.13.0,>=1.12.53 in /usr/local/lib/python2.7/dist-packages (from boto3->smart-open>=1.2.1->gensim) (1.12.53)\n",
            "Requirement already satisfied: s3transfer<0.2.0,>=0.1.10 in /usr/local/lib/python2.7/dist-packages (from boto3->smart-open>=1.2.1->gensim) (0.1.13)\n",
            "Requirement already satisfied: docutils>=0.10 in /usr/local/lib/python2.7/dist-packages (from botocore<1.13.0,>=1.12.53->boto3->smart-open>=1.2.1->gensim) (0.14)\n",
            "Requirement already satisfied: python-dateutil<3.0.0,>=2.1; python_version >= \"2.7\" in /usr/local/lib/python2.7/dist-packages (from botocore<1.13.0,>=1.12.53->boto3->smart-open>=1.2.1->gensim) (2.5.3)\n",
            "Requirement already satisfied: futures<4.0.0,>=2.2.0; python_version == \"2.6\" or python_version == \"2.7\" in /usr/local/lib/python2.7/dist-packages (from s3transfer<0.2.0,>=0.1.10->boto3->smart-open>=1.2.1->gensim) (3.2.0)\n",
            "Requirement already satisfied: xlrd in /usr/local/lib/python2.7/dist-packages (1.1.0)\n",
            "Requirement already satisfied: openpyxl in /usr/local/lib/python2.7/dist-packages (2.5.11)\n",
            "Requirement already satisfied: jdcal in /usr/local/lib/python2.7/dist-packages (from openpyxl) (1.4)\n",
            "Requirement already satisfied: et-xmlfile in /usr/local/lib/python2.7/dist-packages (from openpyxl) (1.0.1)\n"
          ],
          "name": "stdout"
        }
      ]
    },
    {
      "metadata": {
        "id": "etZVFeFsNz-o",
        "colab_type": "code",
        "colab": {}
      },
      "cell_type": "code",
      "source": [
        "# Reading dataset and extracting features and emails\n",
        "data = pd.ExcelFile(\"Unique2.xlsx\")\n",
        "df = data.parse(\"Sheet 1\")\n",
        "df = df.dropna()\n",
        "number_rows = 40000\n",
        "df = df.iloc[list(range(0, number_rows)), :]"
      ],
      "execution_count": 0,
      "outputs": []
    },
    {
      "metadata": {
        "id": "uAmw_0uzOEyK",
        "colab_type": "code",
        "colab": {}
      },
      "cell_type": "code",
      "source": [
        "# Converting each document to array\n",
        "import nltk\n",
        "documents = df['Cleaned_Email'].tolist()\n",
        "tokenized_documents = []\n",
        "nltk.download('punkt')\n",
        "for i in range(len(documents)):\n",
        "  tokenized_documents.append(nltk.word_tokenize(documents[i]))"
      ],
      "execution_count": 0,
      "outputs": []
    },
    {
      "metadata": {
        "id": "Ol2hLQWfQ870",
        "colab_type": "code",
        "colab": {}
      },
      "cell_type": "code",
      "source": [
        "# Training (loading) doc2vec\n",
        "from gensim.models.doc2vec import Doc2Vec, TaggedDocument\n",
        "# documents = [TaggedDocument(doc, [i]) for i, doc in enumerate(tokenized_documents)]\n",
        "\n",
        "# max_epochs = 10\n",
        "# vec_size = 20\n",
        "# alpha = 0.025\n",
        "\n",
        "# model = Doc2Vec(size=vec_size,\n",
        "#                 alpha=alpha, \n",
        "#                 min_alpha=0.00025,\n",
        "#                 min_count=1,\n",
        "#                 dm =0)\n",
        "  \n",
        "# model.build_vocab(documents)\n",
        "\n",
        "# for epoch in range(max_epochs):\n",
        "#     print('iteration {0}'.format(epoch))\n",
        "#     model.train(documents,\n",
        "#                 total_examples=model.corpus_count,\n",
        "#                 epochs=model.iter)\n",
        "#     # decrease the learning rate\n",
        "#     model.alpha -= 0.0002\n",
        "#     # fix the learning rate, no decay\n",
        "#     model.min_alpha = model.alpha\n",
        "\n",
        "# model.save(\"dv.model_1\")\n",
        "# print(\"Model Saved\")\n",
        "model= Doc2Vec.load(\"dv.model_1\")"
      ],
      "execution_count": 0,
      "outputs": []
    },
    {
      "metadata": {
        "id": "vo2PowjcUumH",
        "colab_type": "code",
        "colab": {}
      },
      "cell_type": "code",
      "source": [
        "# Converting documents to vector representation\n",
        "X=[]\n",
        "for doc in tokenized_documents:\n",
        "    X.append(model.infer_vector(doc))"
      ],
      "execution_count": 0,
      "outputs": []
    },
    {
      "metadata": {
        "id": "vAsrPYLjY2Bd",
        "colab_type": "code",
        "outputId": "1c0ad195-6450-4bb5-d0c3-b81b7a63c816",
        "colab": {
          "base_uri": "https://localhost:8080/",
          "height": 365
        }
      },
      "cell_type": "code",
      "source": [
        "# Approach 1 - DB Scan on entire data\n",
        "# DBScan parameter estimation\n",
        "from sklearn.neighbors import NearestNeighbors\n",
        "import matplotlib.pyplot as plt\n",
        "# Min_samples set to ln(number of points)\n",
        "min_samples_set = int(math.ceil(math.log(number_rows)))\n",
        "nbrs = NearestNeighbors(n_neighbors=min_samples_set).fit(X)\n",
        "distances, indices = nbrs.kneighbors(X)\n",
        "distanceDec = sorted(distances[:,min_samples_set-1], reverse=True)\n",
        "plt.plot(list(range(1,number_rows + 1)), distanceDec)"
      ],
      "execution_count": 0,
      "outputs": [
        {
          "output_type": "execute_result",
          "data": {
            "text/plain": [
              "[<matplotlib.lines.Line2D at 0x7f5a32eabf90>]"
            ]
          },
          "metadata": {
            "tags": []
          },
          "execution_count": 12
        },
        {
          "output_type": "display_data",
          "data": {
            "image/png": "[encoded data removed]",
            "text/plain": [
              "<matplotlib.figure.Figure at 0x7f5a33639650>"
            ]
          },
          "metadata": {
            "tags": []
          }
        }
      ]
    },
    {
      "metadata": {
        "id": "uRf5aQvBp5Oa",
        "colab_type": "code",
        "outputId": "9a6a7528-79c8-4e13-b053-6e2317b79d9b",
        "colab": {
          "base_uri": "https://localhost:8080/",
          "height": 382
        }
      },
      "cell_type": "code",
      "source": [
        "# Performing DBScan\n",
        "from sklearn.cluster import DBSCAN\n",
        "from sklearn.decomposition import TruncatedSVD \n",
        "import matplotlib\n",
        "import matplotlib.pyplot as plt\n",
        "min_samples_set = int(math.ceil(math.log(number_rows)))\n",
        "db = DBSCAN(eps=1.85, min_samples= min_samples_set).fit(X)\n",
        "labels = db.labels_\n",
        "print(np.unique(labels))\n",
        "svd = TruncatedSVD(n_components = 2)\n",
        "reduced_data = svd.fit_transform(X)\n",
        "plt.scatter(reduced_data[:,0], reduced_data[:,1], c = [matplotlib.cm.spectral(float(i) /10) for i in labels])"
      ],
      "execution_count": 0,
      "outputs": [
        {
          "output_type": "stream",
          "text": [
            "[-1  0  1  2  3]\n"
          ],
          "name": "stdout"
        },
        {
          "output_type": "execute_result",
          "data": {
            "text/plain": [
              "<matplotlib.collections.PathCollection at 0x7f5a2bbe95d0>"
            ]
          },
          "metadata": {
            "tags": []
          },
          "execution_count": 13
        },
        {
          "output_type": "display_data",
          "data": {
            "image/png": "[encoded data removed]",
            "text/plain": [
              "<matplotlib.figure.Figure at 0x7f5a2f8b9f50>"
            ]
          },
          "metadata": {
            "tags": []
          }
        }
      ]
    },
    {
      "metadata": {
        "id": "TzfxIrXDVPXz",
        "colab_type": "code",
        "colab": {}
      },
      "cell_type": "code",
      "source": [
        "# Perfomrming KMeans\n",
        "from sklearn.cluster import KMeans\n",
        "from sklearn import metrics\n",
        "from sklearn.metrics import pairwise_distances\n",
        "\n",
        "# for i in range(3,7):\n",
        "#   km = KMeans(n_clusters= i)\n",
        "#   km.fit(X)\n",
        "#   clusters = km.labels_.tolist()\n",
        "#   print(\"Clusters: \" + str(i) + \" Score: \" + str(metrics.silhouette_score(X, clusters, metric='euclidean')))\n",
        "\n",
        "# Max for 5 clusters\n",
        "km = KMeans(n_clusters= 5)\n",
        "km.fit(X)\n",
        "clusters = km.labels_.tolist()"
      ],
      "execution_count": 0,
      "outputs": []
    },
    {
      "metadata": {
        "id": "dZXz4JFLX8pY",
        "colab_type": "code",
        "outputId": "32136836-14a0-4e64-8c28-849d074b79a1",
        "colab": {
          "base_uri": "https://localhost:8080/",
          "height": 365
        }
      },
      "cell_type": "code",
      "source": [
        "# Plotting KMeans\n",
        "from sklearn.decomposition import TruncatedSVD \n",
        "import matplotlib\n",
        "import matplotlib.pyplot as plt\n",
        "plt.scatter(reduced_data[:,0], reduced_data[:,1],  c=[matplotlib.cm.spectral(float(i) /10) for i in clusters])"
      ],
      "execution_count": 0,
      "outputs": [
        {
          "output_type": "execute_result",
          "data": {
            "text/plain": [
              "<matplotlib.collections.PathCollection at 0x7f5a2bc5f9d0>"
            ]
          },
          "metadata": {
            "tags": []
          },
          "execution_count": 15
        },
        {
          "output_type": "display_data",
          "data": {
            "image/png": "[encoded data removed]",
            "text/plain": [
              "<matplotlib.figure.Figure at 0x7f5a2bbde0d0>"
            ]
          },
          "metadata": {
            "tags": []
          }
        }
      ]
    },
    {
      "metadata": {
        "id": "LJCxpUM4EZYP",
        "colab_type": "code",
        "outputId": "49a0f544-b6b3-442d-895a-ef373990a069",
        "colab": {
          "base_uri": "https://localhost:8080/",
          "height": 1957
        }
      },
      "cell_type": "code",
      "source": [
        "# Dividing based on Kmeans Clusters\n",
        "df['KMeans_Labels'] = clusters\n",
        "\n",
        "# Short work emails. Internal work emails.\n",
        "df_0 = df[df.KMeans_Labels == 0]\n",
        "temp_0 = pd.DataFrame(pd.Series(' '.join(df_0['Cleaned_Email']).split()).value_counts()[:200].sort_values())\n",
        "\n",
        "# Fantasy Football\n",
        "df_1 = df[df.KMeans_Labels == 1]\n",
        "temp_1 = pd.DataFrame(pd.Series(' '.join(df_1['Cleaned_Email']).split()).value_counts()[:200].sort_values())\n",
        "\n",
        "# Talking about gas market. Maybe these are the business emails. COntract deal price.\n",
        "df_2 = df[df.KMeans_Labels == 2]\n",
        "temp_2 = pd.DataFrame(pd.Series(' '.join(df_2['Cleaned_Email']).split()).value_counts()[:200].sort_values())\n",
        "\n",
        "# Mostly spam offers services lots of images. This stayed when size was increased also\n",
        "df_3 = df[df.KMeans_Labels == 3]\n",
        "temp_3 = pd.DataFrame(pd.Series(' '.join(df_3['Cleaned_Email']).split()).value_counts()[:200].sort_values())\n",
        "\n",
        "# Personal Emails \n",
        "df_4 = df[df.KMeans_Labels == 4]\n",
        "temp_4 = pd.DataFrame(pd.Series(' '.join(df_4['Cleaned_Email']).split()).value_counts()[:200].sort_values())\n",
        "\n",
        "\n",
        "#plt.bar(temp_4.index.values, pd.Series(' '.join(df_4['Cleaned_Email']).split()).value_counts()[:20].sort_values(), align='center', alpha=0.5)\n",
        "#plt.xticks(rotation='vertical')"
      ],
      "execution_count": 0,
      "outputs": [
        {
          "output_type": "execute_result",
          "data": {
            "text/html": [
              "<div>\n",
              "<style scoped>\n",
              "    .dataframe tbody tr th:only-of-type {\n",
              "        vertical-align: middle;\n",
              "    }\n",
              "\n",
              "    .dataframe tbody tr th {\n",
              "        vertical-align: top;\n",
              "    }\n",
              "\n",
              "    .dataframe thead th {\n",
              "        text-align: right;\n",
              "    }\n",
              "</style>\n",
              "<table border=\"1\" class=\"dataframe\">\n",
              "  <thead>\n",
              "    <tr style=\"text-align: right;\">\n",
              "      <th></th>\n",
              "      <th>0</th>\n",
              "    </tr>\n",
              "  </thead>\n",
              "  <tbody>\n",
              "    <tr>\n",
              "      <th>bob</th>\n",
              "      <td>754</td>\n",
              "    </tr>\n",
              "    <tr>\n",
              "      <th>today</th>\n",
              "      <td>755</td>\n",
              "    </tr>\n",
              "    <tr>\n",
              "      <th>possibl</th>\n",
              "      <td>760</td>\n",
              "    </tr>\n",
              "    <tr>\n",
              "      <th>custom</th>\n",
              "      <td>762</td>\n",
              "    </tr>\n",
              "    <tr>\n",
              "      <th>invest</th>\n",
              "      <td>765</td>\n",
              "    </tr>\n",
              "    <tr>\n",
              "      <th>tuesday</th>\n",
              "      <td>770</td>\n",
              "    </tr>\n",
              "    <tr>\n",
              "      <th>distribut</th>\n",
              "      <td>774</td>\n",
              "    </tr>\n",
              "    <tr>\n",
              "      <th>join</th>\n",
              "      <td>774</td>\n",
              "    </tr>\n",
              "    <tr>\n",
              "      <th>presid</th>\n",
              "      <td>783</td>\n",
              "    </tr>\n",
              "    <tr>\n",
              "      <th>wednesday</th>\n",
              "      <td>787</td>\n",
              "    </tr>\n",
              "    <tr>\n",
              "      <th>posit</th>\n",
              "      <td>787</td>\n",
              "    </tr>\n",
              "    <tr>\n",
              "      <th>secur</th>\n",
              "      <td>792</td>\n",
              "    </tr>\n",
              "    <tr>\n",
              "      <th>st</th>\n",
              "      <td>794</td>\n",
              "    </tr>\n",
              "    <tr>\n",
              "      <th>michell</th>\n",
              "      <td>795</td>\n",
              "    </tr>\n",
              "    <tr>\n",
              "      <th>mr</th>\n",
              "      <td>797</td>\n",
              "    </tr>\n",
              "    <tr>\n",
              "      <th>technolog</th>\n",
              "      <td>802</td>\n",
              "    </tr>\n",
              "    <tr>\n",
              "      <th>street</th>\n",
              "      <td>804</td>\n",
              "    </tr>\n",
              "    <tr>\n",
              "      <th>januari</th>\n",
              "      <td>807</td>\n",
              "    </tr>\n",
              "    <tr>\n",
              "      <th>applic</th>\n",
              "      <td>811</td>\n",
              "    </tr>\n",
              "    <tr>\n",
              "      <th>relat</th>\n",
              "      <td>814</td>\n",
              "    </tr>\n",
              "    <tr>\n",
              "      <th>novemb</th>\n",
              "      <td>814</td>\n",
              "    </tr>\n",
              "    <tr>\n",
              "      <th>sat</th>\n",
              "      <td>820</td>\n",
              "    </tr>\n",
              "    <tr>\n",
              "      <th>associ</th>\n",
              "      <td>833</td>\n",
              "    </tr>\n",
              "    <tr>\n",
              "      <th>inc</th>\n",
              "      <td>834</td>\n",
              "    </tr>\n",
              "    <tr>\n",
              "      <th>event</th>\n",
              "      <td>839</td>\n",
              "    </tr>\n",
              "    <tr>\n",
              "      <th>locat</th>\n",
              "      <td>841</td>\n",
              "    </tr>\n",
              "    <tr>\n",
              "      <th>ask</th>\n",
              "      <td>842</td>\n",
              "    </tr>\n",
              "    <tr>\n",
              "      <th>two</th>\n",
              "      <td>844</td>\n",
              "    </tr>\n",
              "    <tr>\n",
              "      <th>file</th>\n",
              "      <td>850</td>\n",
              "    </tr>\n",
              "    <tr>\n",
              "      <th>continu</th>\n",
              "      <td>860</td>\n",
              "    </tr>\n",
              "    <tr>\n",
              "      <th>...</th>\n",
              "      <td>...</td>\n",
              "    </tr>\n",
              "    <tr>\n",
              "      <th>follow</th>\n",
              "      <td>2291</td>\n",
              "    </tr>\n",
              "    <tr>\n",
              "      <th>group</th>\n",
              "      <td>2318</td>\n",
              "    </tr>\n",
              "    <tr>\n",
              "      <th>david</th>\n",
              "      <td>2337</td>\n",
              "    </tr>\n",
              "    <tr>\n",
              "      <th>compani</th>\n",
              "      <td>2344</td>\n",
              "    </tr>\n",
              "    <tr>\n",
              "      <th>houston</th>\n",
              "      <td>2378</td>\n",
              "    </tr>\n",
              "    <tr>\n",
              "      <th>servic</th>\n",
              "      <td>2444</td>\n",
              "    </tr>\n",
              "    <tr>\n",
              "      <th>work</th>\n",
              "      <td>2510</td>\n",
              "    </tr>\n",
              "    <tr>\n",
              "      <th>attach</th>\n",
              "      <td>2510</td>\n",
              "    </tr>\n",
              "    <tr>\n",
              "      <th>call</th>\n",
              "      <td>2519</td>\n",
              "    </tr>\n",
              "    <tr>\n",
              "      <th>can</th>\n",
              "      <td>2605</td>\n",
              "    </tr>\n",
              "    <tr>\n",
              "      <th>busi</th>\n",
              "      <td>2718</td>\n",
              "    </tr>\n",
              "    <tr>\n",
              "      <th>mark</th>\n",
              "      <td>2855</td>\n",
              "    </tr>\n",
              "    <tr>\n",
              "      <th>contact</th>\n",
              "      <td>2871</td>\n",
              "    </tr>\n",
              "    <tr>\n",
              "      <th>may</th>\n",
              "      <td>2900</td>\n",
              "    </tr>\n",
              "    <tr>\n",
              "      <th>time</th>\n",
              "      <td>2941</td>\n",
              "    </tr>\n",
              "    <tr>\n",
              "      <th>new</th>\n",
              "      <td>3070</td>\n",
              "    </tr>\n",
              "    <tr>\n",
              "      <th>john</th>\n",
              "      <td>3183</td>\n",
              "    </tr>\n",
              "    <tr>\n",
              "      <th>inform</th>\n",
              "      <td>3272</td>\n",
              "    </tr>\n",
              "    <tr>\n",
              "      <th>forward</th>\n",
              "      <td>3332</td>\n",
              "    </tr>\n",
              "    <tr>\n",
              "      <th>manag</th>\n",
              "      <td>3614</td>\n",
              "    </tr>\n",
              "    <tr>\n",
              "      <th>thank</th>\n",
              "      <td>3955</td>\n",
              "    </tr>\n",
              "    <tr>\n",
              "      <th>meet</th>\n",
              "      <td>4305</td>\n",
              "    </tr>\n",
              "    <tr>\n",
              "      <th>subject</th>\n",
              "      <td>4317</td>\n",
              "    </tr>\n",
              "    <tr>\n",
              "      <th>synchron</th>\n",
              "      <td>4497</td>\n",
              "    </tr>\n",
              "    <tr>\n",
              "      <th>folder</th>\n",
              "      <td>4756</td>\n",
              "    </tr>\n",
              "    <tr>\n",
              "      <th>email</th>\n",
              "      <td>5014</td>\n",
              "    </tr>\n",
              "    <tr>\n",
              "      <th>pm</th>\n",
              "      <td>6716</td>\n",
              "    </tr>\n",
              "    <tr>\n",
              "      <th>pleas</th>\n",
              "      <td>7516</td>\n",
              "    </tr>\n",
              "    <tr>\n",
              "      <th>enron</th>\n",
              "      <td>7526</td>\n",
              "    </tr>\n",
              "    <tr>\n",
              "      <th>will</th>\n",
              "      <td>12012</td>\n",
              "    </tr>\n",
              "  </tbody>\n",
              "</table>\n",
              "<p>200 rows × 1 columns</p>\n",
              "</div>"
            ],
            "text/plain": [
              "               0\n",
              "bob          754\n",
              "today        755\n",
              "possibl      760\n",
              "custom       762\n",
              "invest       765\n",
              "tuesday      770\n",
              "distribut    774\n",
              "join         774\n",
              "presid       783\n",
              "wednesday    787\n",
              "posit        787\n",
              "secur        792\n",
              "st           794\n",
              "michell      795\n",
              "mr           797\n",
              "technolog    802\n",
              "street       804\n",
              "januari      807\n",
              "applic       811\n",
              "relat        814\n",
              "novemb       814\n",
              "sat          820\n",
              "associ       833\n",
              "inc          834\n",
              "event        839\n",
              "locat        841\n",
              "ask          842\n",
              "two          844\n",
              "file         850\n",
              "continu      860\n",
              "...          ...\n",
              "follow      2291\n",
              "group       2318\n",
              "david       2337\n",
              "compani     2344\n",
              "houston     2378\n",
              "servic      2444\n",
              "work        2510\n",
              "attach      2510\n",
              "call        2519\n",
              "can         2605\n",
              "busi        2718\n",
              "mark        2855\n",
              "contact     2871\n",
              "may         2900\n",
              "time        2941\n",
              "new         3070\n",
              "john        3183\n",
              "inform      3272\n",
              "forward     3332\n",
              "manag       3614\n",
              "thank       3955\n",
              "meet        4305\n",
              "subject     4317\n",
              "synchron    4497\n",
              "folder      4756\n",
              "email       5014\n",
              "pm          6716\n",
              "pleas       7516\n",
              "enron       7526\n",
              "will       12012\n",
              "\n",
              "[200 rows x 1 columns]"
            ]
          },
          "metadata": {
            "tags": []
          },
          "execution_count": 23
        }
      ]
    },
    {
      "metadata": {
        "id": "Rp75Y03Aypj2",
        "colab_type": "code",
        "colab": {}
      },
      "cell_type": "code",
      "source": [
        "# Downloading word frequencies for analysis \n",
        "# import openpyxl\n",
        "# from google.colab import files\n",
        "# temp_! = temp_1.applymap(lambda x: x.encode('unicode_escape').\n",
        "#                  decode('utf-8') if isinstance(x, str) else x)\n",
        "# writer = pd.ExcelWriter('Cluster_1.xlsx', options={'encoding':'utf-8'})\n",
        "# temp_0.to_excel(writer,'Sheet1')\n",
        "# writer.save()\n"
      ],
      "execution_count": 0,
      "outputs": []
    },
    {
      "metadata": {
        "id": "tHjfrfignzSX",
        "colab_type": "code",
        "colab": {}
      },
      "cell_type": "code",
      "source": [
        "# Filtering KMeans Labels \n",
        "index_label_0 = df.index[df['KMeans_Labels'] == 0].tolist()\n",
        "X0 = [X[x-1] for x in index_label_0[:-1]]\n",
        "\n",
        "index_label_1 = df.index[df['KMeans_Labels'] == 1].tolist()\n",
        "X1 = [X[x-1] for x in index_label_1[:-1]]\n",
        "\n",
        "index_label_2 = df.index[df['KMeans_Labels'] == 2].tolist()\n",
        "X2 = [X[x-1] for x in index_label_2[:-1]]\n",
        "\n",
        "index_label_3 = df.index[df['KMeans_Labels'] == 3].tolist()\n",
        "X3 = [X[x-1] for x in index_label_3[:-1]]\n",
        "\n",
        "index_label_4 = df.index[df['KMeans_Labels'] == 4].tolist()\n",
        "X4 = [X[x-1] for x in index_label_4[:-1]]\n"
      ],
      "execution_count": 0,
      "outputs": []
    },
    {
      "metadata": {
        "id": "DPub-KwanMHU",
        "colab_type": "code",
        "colab": {}
      },
      "cell_type": "code",
      "source": [
        "# Determining optimal value of eps Label 3\n",
        "from sklearn.neighbors import NearestNeighbors\n",
        "import matplotlib.pyplot as plt\n",
        "# Min_samples set to ln(number of points)\n",
        "min_samples_set = int(math.ceil(math.log(len(X3))))\n",
        "nbrs = NearestNeighbors(n_neighbors=min_samples_set).fit(X3)\n",
        "distances, indices = nbrs.kneighbors(X3)\n",
        "distanceDec = sorted(distances[:,min_samples_set-1], reverse=True)\n",
        "plt.plot(list(range(1,len(X3) + 1)), distanceDec)"
      ],
      "execution_count": 0,
      "outputs": []
    },
    {
      "metadata": {
        "id": "qhXqpVtOqGrj",
        "colab_type": "code",
        "colab": {}
      },
      "cell_type": "code",
      "source": [
        "from sklearn.cluster import DBSCAN\n",
        "min_samples_set = int(math.ceil(math.log(len(X3))))\n",
        "db = DBSCAN(eps=1.83, min_samples=min_samples_set).fit(X3)\n",
        "labels = db.labels_\n",
        "svd = TruncatedSVD(n_components = 2)\n",
        "reduced_data_0 = svd.fit_transform(X0)\n",
        "print(np.unique(labels))\n",
        "plt.scatter(reduced_data_0[:,0], reduced_data_0[:,1], c=[matplotlib.cm.spectral(float(i) /10) for i in labels])"
      ],
      "execution_count": 0,
      "outputs": []
    },
    {
      "metadata": {
        "id": "jo0cz6El_aYk",
        "colab_type": "code",
        "colab": {}
      },
      "cell_type": "code",
      "source": [
        "# Dividing based on DB Scan\n",
        "df_0 =  df_0[:-1]\n",
        "df_0['DBScan_Labels'] = labels\n",
        "\n",
        "df_0_0 = df_0[df_0.DBScan_Labels == 0]\n",
        "temp_0_0 = pd.DataFrame(pd.Series(' '.join(df_0_0['Cleaned_Email']).split()).value_counts().sort_values())\n",
        "\n",
        "df_0_1 = df_0[df_0.DBScan_Labels == 1]\n",
        "temp_0_1 = pd.DataFrame(pd.Series(' '.join(df_0_1['Cleaned_Email']).split()).value_counts().sort_values())\n",
        "\n",
        "df_0_2 = df_0[df_0.DBScan_Labels == 2]\n",
        "temp_0_2 = pd.DataFrame(pd.Series(' '.join(df_0_2['Cleaned_Email']).split()).value_counts().sort_values())\n",
        "\n",
        "df_0_3 = df_0[df_0.DBScan_Labels == 3]\n",
        "temp_0_3 = pd.DataFrame(pd.Series(' '.join(df_0_3['Cleaned_Email']).split()).value_counts().sort_values())\n",
        "\n",
        "df_0_4 = df_0[df_0.DBScan_Labels == 4]\n",
        "temp_0_4 = pd.DataFrame(pd.Series(' '.join(df_0_4['Cleaned_Email']).split()).value_counts().sort_values())\n"
      ],
      "execution_count": 0,
      "outputs": []
    },
    {
      "metadata": {
        "id": "KLTYNK8a6pC7",
        "colab_type": "code",
        "colab": {}
      },
      "cell_type": "code",
      "source": [
        "# Determining optimal value of eps Label 1\n",
        "from sklearn.neighbors import NearestNeighbors\n",
        "import matplotlib.pyplot as plt\n",
        "# Min_samples set to ln(number of points)\n",
        "min_samples_set = int(math.ceil(math.log(len(X1))))\n",
        "nbrs = NearestNeighbors(n_neighbors=min_samples_set).fit(X1)\n",
        "distances, indices = nbrs.kneighbors(X1)\n",
        "distanceDec = sorted(distances[:,min_samples_set-1], reverse=True)\n",
        "plt.plot(list(range(1,len(X1) + 1)), distanceDec)"
      ],
      "execution_count": 0,
      "outputs": []
    },
    {
      "metadata": {
        "id": "XrO1dMmDKHyl",
        "colab_type": "code",
        "colab": {}
      },
      "cell_type": "code",
      "source": [
        "from sklearn.cluster import DBSCAN\n",
        "min_samples_set = int(math.ceil(math.log(len(X1))))\n",
        "db = DBSCAN(eps=1.3, min_samples=min_samples_set).fit(X1)\n",
        "labels = db.labels_\n",
        "svd = TruncatedSVD(n_components = 2)\n",
        "reduced_data_1 = svd.fit_transform(X1)\n",
        "print(np.unique(labels))\n",
        "plt.scatter(reduced_data_1[:,0], reduced_data_1[:,1], c=[matplotlib.cm.spectral(float(i) /10) for i in labels])"
      ],
      "execution_count": 0,
      "outputs": []
    },
    {
      "metadata": {
        "id": "1zOrgio-LCpR",
        "colab_type": "code",
        "colab": {}
      },
      "cell_type": "code",
      "source": [
        "# Dividing based on DB Scan\n",
        "df_1 =  df_1[:-1]\n",
        "df_1['DBScan_Labels'] = labels\n",
        "\n",
        "df_1_0 = df_1[df_1.DBScan_Labels == 0]\n",
        "temp_1_0 = pd.DataFrame(pd.Series(' '.join(df_1_0['Cleaned_Email']).split()).value_counts()[:20].sort_values())\n",
        "\n",
        "df_1_1 = df_1[df_1.DBScan_Labels == 1]\n",
        "temp_1_1 = pd.DataFrame(pd.Series(' '.join(df_1_1['Cleaned_Email']).split()).value_counts()[:20].sort_values())\n",
        "\n",
        "df_1_2 = df_1[df_1.DBScan_Labels == 2]\n",
        "temp_1_2 = pd.DataFrame(pd.Series(' '.join(df_1_2['Cleaned_Email']).split()).value_counts()[:20].sort_values())\n",
        "\n",
        "df_1_3 = df_1[df_1.DBScan_Labels == 3]\n",
        "temp_1_3 = pd.DataFrame(pd.Series(' '.join(df_1_3['Cleaned_Email']).split()).value_counts()[:20].sort_values())\n"
      ],
      "execution_count": 0,
      "outputs": []
    },
    {
      "metadata": {
        "id": "voGUK_QVw2tX",
        "colab_type": "code",
        "colab": {}
      },
      "cell_type": "code",
      "source": [
        "#import openpyxl\n",
        "#from google.colab import files\n",
        "#df = df.applymap(lambda x: x.encode('unicode_escape').\n",
        "                 decode('utf-8') if isinstance(x, str) else x)\n",
        "#writer = pd.ExcelWriter('Unique_New.xlsx', options={'encoding':'utf-8'})\n",
        "#df.to_excel(writer,'Sheet1')\n",
        "#writer.save()\n",
        "#files.download('Unique_New.xlsx')"
      ],
      "execution_count": 0,
      "outputs": []
    }
  ]
}